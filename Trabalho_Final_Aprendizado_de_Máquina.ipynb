{
  "cells": [
    {
      "cell_type": "markdown",
      "metadata": {
        "id": "view-in-github",
        "colab_type": "text"
      },
      "source": [
        "<a href=\"https://colab.research.google.com/github/DennisGabriel-Dev/trabalho-final-AM/blob/main/Trabalho_Final_Aprendizado_de_M%C3%A1quina.ipynb\" target=\"_parent\"><img src=\"https://colab.research.google.com/assets/colab-badge.svg\" alt=\"Open In Colab\"/></a>"
      ]
    },
    {
      "cell_type": "markdown",
      "source": [
        "# Importando a base de dados"
      ],
      "metadata": {
        "id": "PI62evmwWeHf"
      }
    },
    {
      "cell_type": "markdown",
      "source": [
        "# 1. Importação das bibliotecas"
      ],
      "metadata": {
        "id": "uxhKLnIYaL_8"
      }
    },
    {
      "cell_type": "code",
      "execution_count": 2,
      "metadata": {
        "id": "OszqY6cFB6mt"
      },
      "outputs": [],
      "source": [
        "import pandas as pd\n",
        "import numpy as np\n",
        "import matplotlib.pyplot as plt\n",
        "import seaborn as sns\n",
        "\n",
        "from sklearn.model_selection import train_test_split, cross_val_score, StratifiedKFold\n",
        "from sklearn.preprocessing import StandardScaler, OneHotEncoder\n",
        "from sklearn.compose import ColumnTransformer\n",
        "from sklearn.pipeline import Pipeline\n",
        "from sklearn.metrics import accuracy_score, f1_score, confusion_matrix, classification_report, roc_auc_score\n",
        "\n",
        "from sklearn.neural_network import MLPClassifier\n",
        "from sklearn.neighbors import KNeighborsClassifier\n",
        "from sklearn.svm import SVC\n",
        "from sklearn.ensemble import RandomForestClassifier"
      ]
    },
    {
      "cell_type": "markdown",
      "source": [
        "# 2. Carregamento dos dados"
      ],
      "metadata": {
        "id": "AWRMORNsaWED"
      }
    },
    {
      "cell_type": "code",
      "source": [
        "df = pd.read_csv('bank-additional-full.csv', sep=';')"
      ],
      "metadata": {
        "id": "OnEnYVP8aWzJ"
      },
      "execution_count": 3,
      "outputs": []
    },
    {
      "cell_type": "markdown",
      "source": [
        "# 3. Análise exploratória inicial"
      ],
      "metadata": {
        "id": "5X_E4LpEabb5"
      }
    },
    {
      "cell_type": "code",
      "source": [
        "print(df.head())\n",
        "print(df.info())\n",
        "print(df['y'].value_counts())"
      ],
      "metadata": {
        "colab": {
          "base_uri": "https://localhost:8080/"
        },
        "id": "ewB7fIFuab-G",
        "outputId": "70357f45-8533-47b3-df36-6c02597bde06"
      },
      "execution_count": 4,
      "outputs": [
        {
          "output_type": "stream",
          "name": "stdout",
          "text": [
            "   age        job  marital    education  default housing loan    contact  \\\n",
            "0   56  housemaid  married     basic.4y       no      no   no  telephone   \n",
            "1   57   services  married  high.school  unknown      no   no  telephone   \n",
            "2   37   services  married  high.school       no     yes   no  telephone   \n",
            "3   40     admin.  married     basic.6y       no      no   no  telephone   \n",
            "4   56   services  married  high.school       no      no  yes  telephone   \n",
            "\n",
            "  month day_of_week  ...  campaign  pdays  previous     poutcome emp.var.rate  \\\n",
            "0   may         mon  ...         1    999         0  nonexistent          1.1   \n",
            "1   may         mon  ...         1    999         0  nonexistent          1.1   \n",
            "2   may         mon  ...         1    999         0  nonexistent          1.1   \n",
            "3   may         mon  ...         1    999         0  nonexistent          1.1   \n",
            "4   may         mon  ...         1    999         0  nonexistent          1.1   \n",
            "\n",
            "   cons.price.idx  cons.conf.idx  euribor3m  nr.employed   y  \n",
            "0          93.994          -36.4      4.857       5191.0  no  \n",
            "1          93.994          -36.4      4.857       5191.0  no  \n",
            "2          93.994          -36.4      4.857       5191.0  no  \n",
            "3          93.994          -36.4      4.857       5191.0  no  \n",
            "4          93.994          -36.4      4.857       5191.0  no  \n",
            "\n",
            "[5 rows x 21 columns]\n",
            "<class 'pandas.core.frame.DataFrame'>\n",
            "RangeIndex: 41188 entries, 0 to 41187\n",
            "Data columns (total 21 columns):\n",
            " #   Column          Non-Null Count  Dtype  \n",
            "---  ------          --------------  -----  \n",
            " 0   age             41188 non-null  int64  \n",
            " 1   job             41188 non-null  object \n",
            " 2   marital         41188 non-null  object \n",
            " 3   education       41188 non-null  object \n",
            " 4   default         41188 non-null  object \n",
            " 5   housing         41188 non-null  object \n",
            " 6   loan            41188 non-null  object \n",
            " 7   contact         41188 non-null  object \n",
            " 8   month           41188 non-null  object \n",
            " 9   day_of_week     41188 non-null  object \n",
            " 10  duration        41188 non-null  int64  \n",
            " 11  campaign        41188 non-null  int64  \n",
            " 12  pdays           41188 non-null  int64  \n",
            " 13  previous        41188 non-null  int64  \n",
            " 14  poutcome        41188 non-null  object \n",
            " 15  emp.var.rate    41188 non-null  float64\n",
            " 16  cons.price.idx  41188 non-null  float64\n",
            " 17  cons.conf.idx   41188 non-null  float64\n",
            " 18  euribor3m       41188 non-null  float64\n",
            " 19  nr.employed     41188 non-null  float64\n",
            " 20  y               41188 non-null  object \n",
            "dtypes: float64(5), int64(5), object(11)\n",
            "memory usage: 6.6+ MB\n",
            "None\n",
            "y\n",
            "no     36548\n",
            "yes     4640\n",
            "Name: count, dtype: int64\n"
          ]
        }
      ]
    },
    {
      "cell_type": "markdown",
      "source": [
        "# 4. Pré-processamento"
      ],
      "metadata": {
        "id": "80109wZrajIL"
      }
    },
    {
      "cell_type": "markdown",
      "source": [
        "# 4.1 Remover a coluna 'duration' (não pode ser usada para predição realista)"
      ],
      "metadata": {
        "id": "8TmM48Mlakem"
      }
    },
    {
      "cell_type": "code",
      "source": [
        "df = df.drop('duration', axis=1)"
      ],
      "metadata": {
        "id": "NoCkBQyCaj3r"
      },
      "execution_count": 5,
      "outputs": []
    },
    {
      "cell_type": "markdown",
      "source": [
        "# 4.2 Separar features e target"
      ],
      "metadata": {
        "id": "hoknfTAMaqK2"
      }
    },
    {
      "cell_type": "code",
      "source": [
        "X = df.drop('y', axis=1)\n",
        "y = df['y'].map({'yes': 1, 'no': 0})  # binarizando a saída"
      ],
      "metadata": {
        "id": "FIkYft13arF_"
      },
      "execution_count": 6,
      "outputs": []
    },
    {
      "cell_type": "markdown",
      "source": [
        "# 4.3 Identificar colunas categóricas e numéricas"
      ],
      "metadata": {
        "id": "OBvC6_lla2fH"
      }
    },
    {
      "cell_type": "code",
      "source": [
        "cat_cols = X.select_dtypes(include=['object']).columns.tolist()\n",
        "num_cols = X.select_dtypes(include=['int64', 'float64']).columns.tolist()"
      ],
      "metadata": {
        "id": "bIT9Rb_aa4jp"
      },
      "execution_count": 7,
      "outputs": []
    },
    {
      "cell_type": "markdown",
      "source": [
        "# 4.4 Pipeline de pré-processamento"
      ],
      "metadata": {
        "id": "_cQNlulPa-uu"
      }
    },
    {
      "cell_type": "code",
      "source": [
        "preprocessor = ColumnTransformer([\n",
        "    ('num', StandardScaler(), num_cols),\n",
        "    ('cat', OneHotEncoder(handle_unknown='ignore'), cat_cols)\n",
        "])"
      ],
      "metadata": {
        "id": "iuJghoscbAbb"
      },
      "execution_count": 8,
      "outputs": []
    },
    {
      "cell_type": "markdown",
      "source": [
        "# 5. Divisão treino/teste"
      ],
      "metadata": {
        "id": "TNKGZd3HbCEM"
      }
    },
    {
      "cell_type": "code",
      "source": [
        "X_train, X_test, y_train, y_test = train_test_split(\n",
        "    X, y, test_size=0.3, stratify=y, random_state=42\n",
        ")"
      ],
      "metadata": {
        "id": "HH41vV5GbD4X"
      },
      "execution_count": 9,
      "outputs": []
    },
    {
      "cell_type": "markdown",
      "source": [
        "# 6. Definição dos modelos"
      ],
      "metadata": {
        "id": "Bw10pADgbHIF"
      }
    },
    {
      "cell_type": "code",
      "source": [
        "models = {\n",
        "    'MLP': MLPClassifier(hidden_layer_sizes=(50,), max_iter=300, early_stopping=True, random_state=42),\n",
        "    'KNN': KNeighborsClassifier(),\n",
        "    'SVM': SVC(probability=True, random_state=42),\n",
        "    'Random Forest': RandomForestClassifier(random_state=42)\n",
        "}"
      ],
      "metadata": {
        "id": "cvZRmRuObGYo"
      },
      "execution_count": 10,
      "outputs": []
    },
    {
      "cell_type": "markdown",
      "source": [
        "# 7. Treinamento, predição e avaliação"
      ],
      "metadata": {
        "id": "jTjtlkltbKfk"
      }
    },
    {
      "cell_type": "code",
      "source": [
        "results = {}\n",
        "\n",
        "for name, model in models.items():\n",
        "    pipe = Pipeline([\n",
        "        ('pre', preprocessor),\n",
        "        ('clf', model)\n",
        "    ])\n",
        "    pipe.fit(X_train, y_train)\n",
        "    y_pred = pipe.predict(X_test)\n",
        "    y_proba = pipe.predict_proba(X_test)[:,1] if hasattr(pipe.named_steps['clf'], \"predict_proba\") else None\n",
        "\n",
        "    # Métricas\n",
        "    acc = accuracy_score(y_test, y_pred)\n",
        "    f1 = f1_score(y_test, y_pred)\n",
        "    cm = confusion_matrix(y_test, y_pred)\n",
        "    report = classification_report(y_test, y_pred, output_dict=True)\n",
        "    auc = roc_auc_score(y_test, y_proba) if y_proba is not None else None\n",
        "\n",
        "    results[name] = {\n",
        "        'Acurácia': acc,\n",
        "        'F1-score': f1,\n",
        "        'Matriz de Confusão': cm,\n",
        "        'Relatório': report,\n",
        "        'AUC-ROC': auc\n",
        "    }"
      ],
      "metadata": {
        "id": "Mp6RC7HUbM7B"
      },
      "execution_count": 11,
      "outputs": []
    },
    {
      "cell_type": "markdown",
      "source": [
        "# 8. Exibição dos resultados"
      ],
      "metadata": {
        "id": "UvWPNUNcahAq"
      }
    },
    {
      "cell_type": "code",
      "source": [
        "for name, metrics in results.items():\n",
        "    print(f\"\\nModelo: {name}\")\n",
        "    print(f\"Acurácia: {metrics['Acurácia']:.4f}\")\n",
        "    print(f\"F1-score: {metrics['F1-score']:.4f}\")\n",
        "    if metrics['AUC-ROC'] is not None:\n",
        "        print(f\"AUC-ROC: {metrics['AUC-ROC']:.4f}\")\n",
        "    print(\"Matriz de Confusão:\")\n",
        "    print(metrics['Matriz de Confusão'])\n",
        "    print(\"Relatório de Classificação:\")\n",
        "    print(pd.DataFrame(metrics['Relatório']).transpose())"
      ],
      "metadata": {
        "colab": {
          "base_uri": "https://localhost:8080/"
        },
        "id": "XtghBXZLbRun",
        "outputId": "2b6a124e-3f9a-4d6d-dd99-1058c61fbb1f"
      },
      "execution_count": 12,
      "outputs": [
        {
          "output_type": "stream",
          "name": "stdout",
          "text": [
            "\n",
            "Modelo: MLP\n",
            "Acurácia: 0.9019\n",
            "F1-score: 0.3614\n",
            "AUC-ROC: 0.8044\n",
            "Matriz de Confusão:\n",
            "[[10802   163]\n",
            " [ 1049   343]]\n",
            "Relatório de Classificação:\n",
            "              precision    recall  f1-score       support\n",
            "0              0.911484  0.985135  0.946879  10965.000000\n",
            "1              0.677866  0.246408  0.361433   1392.000000\n",
            "accuracy       0.901918  0.901918  0.901918      0.901918\n",
            "macro avg      0.794675  0.615771  0.654156  12357.000000\n",
            "weighted avg   0.885167  0.901918  0.880930  12357.000000\n",
            "\n",
            "Modelo: KNN\n",
            "Acurácia: 0.8954\n",
            "F1-score: 0.3888\n",
            "AUC-ROC: 0.7408\n",
            "Matriz de Confusão:\n",
            "[[10654   311]\n",
            " [  981   411]]\n",
            "Relatório de Classificação:\n",
            "              precision    recall  f1-score       support\n",
            "0              0.915685  0.971637  0.942832  10965.000000\n",
            "1              0.569252  0.295259  0.388836   1392.000000\n",
            "accuracy       0.895444  0.895444  0.895444      0.895444\n",
            "macro avg      0.742469  0.633448  0.665834  12357.000000\n",
            "weighted avg   0.876660  0.895444  0.880425  12357.000000\n",
            "\n",
            "Modelo: SVM\n",
            "Acurácia: 0.9026\n",
            "F1-score: 0.3665\n",
            "AUC-ROC: 0.7061\n",
            "Matriz de Confusão:\n",
            "[[10806   159]\n",
            " [ 1044   348]]\n",
            "Relatório de Classificação:\n",
            "              precision    recall  f1-score       support\n",
            "0              0.911899  0.985499  0.947272  10965.000000\n",
            "1              0.686391  0.250000  0.366509   1392.000000\n",
            "accuracy       0.902646  0.902646  0.902646      0.902646\n",
            "macro avg      0.799145  0.617750  0.656890  12357.000000\n",
            "weighted avg   0.886496  0.902646  0.881849  12357.000000\n",
            "\n",
            "Modelo: Random Forest\n",
            "Acurácia: 0.8946\n",
            "F1-score: 0.3774\n",
            "AUC-ROC: 0.7770\n",
            "Matriz de Confusão:\n",
            "[[10659   306]\n",
            " [  997   395]]\n",
            "Relatório de Classificação:\n",
            "              precision    recall  f1-score       support\n",
            "0              0.914465  0.972093  0.942399  10965.000000\n",
            "1              0.563481  0.283764  0.377449   1392.000000\n",
            "accuracy       0.894554  0.894554  0.894554      0.894554\n",
            "macro avg      0.738973  0.627929  0.659924  12357.000000\n",
            "weighted avg   0.874927  0.894554  0.878758  12357.000000\n"
          ]
        }
      ]
    },
    {
      "cell_type": "markdown",
      "source": [
        "# 9. Visualização dos resultados\n",
        "# Exemplo: gráfico de barras para F1-score"
      ],
      "metadata": {
        "id": "M-PpRQiZbWhN"
      }
    },
    {
      "cell_type": "code",
      "source": [
        "model_names = list(results.keys())\n",
        "f1_scores = [results[m]['F1-score'] for m in model_names]\n",
        "\n",
        "plt.figure(figsize=(8,5))\n",
        "sns.barplot(x=model_names, y=f1_scores)\n",
        "plt.title('Comparação do F1-score entre os modelos')\n",
        "plt.ylabel('F1-score')\n",
        "plt.xlabel('Modelo')\n",
        "plt.show()"
      ],
      "metadata": {
        "colab": {
          "base_uri": "https://localhost:8080/",
          "height": 487
        },
        "id": "z1YZRC5wbYtf",
        "outputId": "6801cc2a-e987-45bb-e0ee-68b5659f1668"
      },
      "execution_count": 13,
      "outputs": [
        {
          "output_type": "display_data",
          "data": {
            "text/plain": [
              "<Figure size 800x500 with 1 Axes>"
            ],
            "image/png": "[encoded data removed]"
          },
          "metadata": {}
        }
      ]
    },
    {
      "cell_type": "markdown",
      "source": [
        "# 10. Validação cruzada"
      ],
      "metadata": {
        "id": "ajLGNaK2b8u3"
      }
    },
    {
      "cell_type": "markdown",
      "source": [
        "\n",
        "# Exemplo para Random Forest"
      ],
      "metadata": {
        "id": "x7zhvJsZb2ir"
      }
    },
    {
      "cell_type": "code",
      "source": [
        "cv = StratifiedKFold(n_splits=5, shuffle=True, random_state=42)\n",
        "rf_pipe = Pipeline([\n",
        "    ('pre', preprocessor),\n",
        "    ('clf', RandomForestClassifier(random_state=42))\n",
        "])\n",
        "cv_scores = cross_val_score(rf_pipe, X, y, cv=cv, scoring='f1')\n",
        "print(f\"F1-score médio (Random Forest, 5-fold CV): {cv_scores.mean():.4f}\")"
      ],
      "metadata": {
        "colab": {
          "base_uri": "https://localhost:8080/"
        },
        "id": "OX9qmq8pb2Mq",
        "outputId": "f64c16a6-e304-4ea6-aa3e-f744c22726a8"
      },
      "execution_count": 14,
      "outputs": [
        {
          "output_type": "stream",
          "name": "stdout",
          "text": [
            "F1-score médio (Random Forest, 5-fold CV): 0.3768\n"
          ]
        }
      ]
    },
    {
      "cell_type": "markdown",
      "source": [],
      "metadata": {
        "id": "t43Jj2dohOOq"
      }
    },
    {
      "cell_type": "code",
      "source": [
        "from sklearn.model_selection import cross_val_score, StratifiedKFold\n",
        "\n",
        "cv = StratifiedKFold(n_splits=5, shuffle=True, random_state=42)\n",
        "results_cv = {}\n",
        "\n",
        "for name, model in models.items():\n",
        "    pipe = Pipeline([\n",
        "        ('pre', preprocessor),\n",
        "        ('clf', model)\n",
        "    ])\n",
        "    f1_scores = cross_val_score(pipe, X, y, cv=cv, scoring='f1')\n",
        "    acc_scores = cross_val_score(pipe, X, y, cv=cv, scoring='accuracy')\n",
        "    results_cv[name] = {\n",
        "        'F1-score médio': np.mean(f1_scores),\n",
        "        'F1-score std': np.std(f1_scores),\n",
        "        'Acurácia média': np.mean(acc_scores),\n",
        "        'Acurácia std': np.std(acc_scores),\n",
        "        'F1-scores': f1_scores,\n",
        "        'Acc-scores': acc_scores\n",
        "    }\n",
        "    print(f\"{name}: F1-score médio = {np.mean(f1_scores):.4f}\")"
      ],
      "metadata": {
        "colab": {
          "base_uri": "https://localhost:8080/"
        },
        "id": "wfybVJdFhMxz",
        "outputId": "c9100a56-b834-4aa8-9682-ea8cebf5c1e0"
      },
      "execution_count": null,
      "outputs": [
        {
          "metadata": {
            "tags": null
          },
          "name": "stdout",
          "output_type": "stream",
          "text": [
            "MLP: F1-score médio = 0.3499\n",
            "KNN: F1-score médio = 0.3701\n"
          ]
        }
      ]
    },
    {
      "cell_type": "markdown",
      "source": [
        "# 11. Salvando o arquivo CSV (pós-pré-processamento)"
      ],
      "metadata": {
        "id": "4DiiA33Mb_k5"
      }
    },
    {
      "cell_type": "code",
      "source": [
        "X_train_proc = preprocessor.fit_transform(X_train)\n",
        "pd.DataFrame(X_train_proc).to_csv('bank_preprocessado.csv', index=False)"
      ],
      "metadata": {
        "id": "NyNTh79HcIcO"
      },
      "execution_count": 15,
      "outputs": []
    }
  ],
  "metadata": {
    "colab": {
      "provenance": [],
      "authorship_tag": "ABX9TyOuayfU1ZE509l4qScRACmj",
      "include_colab_link": true
    },
    "kernelspec": {
      "display_name": "Python 3",
      "name": "python3"
    },
    "language_info": {
      "name": "python"
    }
  },
  "nbformat": 4,
  "nbformat_minor": 0
}